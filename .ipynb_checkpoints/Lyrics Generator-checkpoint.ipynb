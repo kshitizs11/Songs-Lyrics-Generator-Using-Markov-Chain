{
 "cells": [
  {
   "cell_type": "code",
   "execution_count": 43,
   "metadata": {},
   "outputs": [],
   "source": [
    "import requests\n",
    "import numpy as np"
   ]
  },
  {
   "cell_type": "code",
   "execution_count": 400,
   "metadata": {},
   "outputs": [],
   "source": [
    "f = open(\"time.txt\",\"r+\")\n",
    "data = f.read()\n",
    "f.close()"
   ]
  },
  {
   "cell_type": "code",
   "execution_count": null,
   "metadata": {},
   "outputs": [],
   "source": []
  },
  {
   "cell_type": "code",
   "execution_count": 401,
   "metadata": {},
   "outputs": [],
   "source": [
    "# print(data)"
   ]
  },
  {
   "cell_type": "code",
   "execution_count": 402,
   "metadata": {},
   "outputs": [],
   "source": [
    "def getTransitionTable(data,k = 4):\n",
    "    t = {}\n",
    "    \n",
    "    for i in range(len(data)-k):\n",
    "        x = data[i:i+k]\n",
    "        y = data[i+k]\n",
    "        \n",
    "        if t.get(x) is None:\n",
    "            t[x]={}\n",
    "            t[x][y] = 1\n",
    "        else:\n",
    "            if t[x].get(y) is None:\n",
    "                t[x][y] = 1\n",
    "            else:\n",
    "                t[x][y] += 1\n",
    "    return t"
   ]
  },
  {
   "cell_type": "code",
   "execution_count": 403,
   "metadata": {},
   "outputs": [],
   "source": [
    "text=\"Virat King\"\n",
    "T = getTransitionTable(data.lower())"
   ]
  },
  {
   "cell_type": "code",
   "execution_count": 404,
   "metadata": {},
   "outputs": [],
   "source": [
    "def ConvertFreqIntoProb(t):\n",
    "    for i in t.keys():\n",
    "        s = float(sum(t[i].values()))\n",
    "        for k in t[i].keys():\n",
    "            t[i][k] = t[i][k]/s\n",
    "            \n",
    "    return t"
   ]
  },
  {
   "cell_type": "code",
   "execution_count": null,
   "metadata": {},
   "outputs": [],
   "source": []
  },
  {
   "cell_type": "code",
   "execution_count": 405,
   "metadata": {},
   "outputs": [],
   "source": [
    "T = ConvertFreqIntoProb(T)"
   ]
  },
  {
   "cell_type": "code",
   "execution_count": 406,
   "metadata": {},
   "outputs": [],
   "source": [
    "def sample_next(sent,t,i,k=4):\n",
    "    sentence = sent[-k:]\n",
    "    if t.get(sentence) is None:\n",
    "        return \" \"\n",
    "    possible_chars = list(t[sentence].keys())\n",
    "    possible_probabs = list(t[sentence].values())\n",
    "    #np.random.seed(i)\n",
    "    return np.random.choice(possible_chars, p = possible_probabs)"
   ]
  },
  {
   "cell_type": "code",
   "execution_count": 407,
   "metadata": {},
   "outputs": [],
   "source": [
    "def generateText(sent,t,k=4,max_length =2000):\n",
    "    sentence = sent\n",
    "    context = sentence[-k:]\n",
    "    np.random.seed(11)\n",
    "    for i in range(max_length):\n",
    "        next_pred = sample_next(context,t,i,k)\n",
    "        sentence += next_pred\n",
    "        context = sentence[-k:]\n",
    "    \n",
    "    return sentence"
   ]
  },
  {
   "cell_type": "code",
   "execution_count": 408,
   "metadata": {},
   "outputs": [],
   "source": [
    "prediction = generateText(\"apna\", T,max_length =1996)"
   ]
  },
  {
   "cell_type": "code",
   "execution_count": 409,
   "metadata": {},
   "outputs": [
    {
     "name": "stdout",
     "output_type": "stream",
     "text": [
      "apna time aaya hath nahi\n",
      "utna hi to aaya hai seene se\n",
      "matlab bana lala\n",
      "mere bhai tu\n",
      "utna time aaya hai\n",
      "phir bhi satayega\n",
      "zinda mera khud ki hai, amaana lala\n",
      "tujhe na mila paseene se jeenenge\n",
      "sab kuchh mil payega\n",
      "jitni rehmat mein\n",
      "har raakh se\n",
      "tu nanga hi to khauf nahin hai jaisa koyi hai seene mein nahi hai\n",
      "kyon ki ab laalach nai hai\n",
      "kya ghanta lekar jaayega\n",
      "kya tu dafnayega\n",
      "apna time aayega\n",
      "kya tu ghanta lekar..\n",
      " \n",
      "kyon\n",
      "kyon ka hai\n",
      "kya ghanta lekar jaayega\n",
      "apna time aayega\n",
      "zinda mera khwaab hai chheene mein\n",
      " \n",
      "kyon ki hai jaisa shaan pighlayega\n",
      "jitni taakat ne hi barkat ki mehnat ki, amaana ab talaash mein\n",
      "parwane ki hai\n",
      "jo darr ko bhi ladka sehmat mein nahi\n",
      "utna hi to khaayega\n",
      " \n",
      "yeh shabdon ka hai\n",
      "zaroorat ki\n",
      "himaakat di hairat ki, ibaadat ki hai\n",
      "kya ghanta lekar jaayega\n",
      "apna time aayega\n",
      " \n",
      "tu nanga hi barkat ki\n",
      "adalat yahaan par\n",
      "yahaan marzi ki\n",
      "jeetne ki\n",
      "jeetne ki mehnat se main\n",
      "jitna hi to aayega\n",
      " \n",
      "ab hai\n",
      "kya tu dafnayega\n",
      "mere jaisa mera khud ki hai\n",
      "kya ghanta lekar jaayega\n",
      "kya tu ghanta lekar..\n",
      " \n",
      "kissi ka hai\n",
      "kya ghanta lekar..\n",
      " \n",
      "kissi ka jwala\n",
      "meri bediyan parwaaz dekh par aaya hai\n",
      "kya ghanta lekar jaayega\n",
      "aayega\n",
      "apna time aayega\n",
      "aayega\n",
      "apna time aaya hath nai hai\n",
      "zaroorat ki\n",
      "mohobbat ki, aafat ki hai jaisa shaanat ki\n",
      "aur jurrat yahaan marzi ki\n",
      "adalat yeh shabdon ki ab aadat ki apna time aaya khwaab\n",
      "ab kaise tu ghanta lekar jaayega\n",
      "uth ja ab jeene mein hai\n",
      "phir bhi sar uthayega\n",
      " \n",
      "taakat ki\n",
      "himaakat ki mehnat se main\n",
      "jitna time aayega\n",
      "apna time aayega\n",
      "apna time aaya hai\n",
      " \n",
      "iss hardâ€™ch nai hai\n",
      " \n",
      "tu nanga hi to aaya hai, aafat ki\n",
      "aasman bhi ladka sehmat nahi hai seene de\n",
      "ab kaise tu ghanta lekar jaayega\n",
      " \n",
      "tu nanga hi to khauf nahi hai, aafat ki ab jeene se\n",
      "tu nanga hi to khauf nahi\n",
      "utni raaste ko bhi ladka sehmat mein\n",
      " \n",
      "kyon\n",
      "kyon ki ab laalach nai hai\n",
      "zaroorat yahaan pighlayega\n",
      " \n",
      "tu nanga hi to aayega\n",
      "meri bediyan par aayega\n",
      "apna time aaya khwaab\n",
      "ab kuchh mil payega\n",
      "apna time aaya khwaab\n",
      "ab kuchh mila paseene mein\n",
      "parwane ki\n",
      "himaakat ki ab jeene mein\n",
      " \n",
      "kissi ka hai\n"
     ]
    }
   ],
   "source": [
    "print(prediction.lower())\n",
    "# np.random.choice? len(data)"
   ]
  },
  {
   "cell_type": "code",
   "execution_count": 410,
   "metadata": {},
   "outputs": [
    {
     "data": {
      "text/plain": [
       "2000"
      ]
     },
     "execution_count": 410,
     "metadata": {},
     "output_type": "execute_result"
    }
   ],
   "source": [
    "len(prediction)"
   ]
  },
  {
   "cell_type": "code",
   "execution_count": 411,
   "metadata": {},
   "outputs": [],
   "source": [
    "# with open(\"newfile.txt\", 'wb') as f:\n",
    "#     f.write(\"I've changed previous file. \\nI love Data Science\")"
   ]
  },
  {
   "cell_type": "code",
   "execution_count": null,
   "metadata": {},
   "outputs": [],
   "source": []
  },
  {
   "cell_type": "code",
   "execution_count": null,
   "metadata": {},
   "outputs": [],
   "source": []
  },
  {
   "cell_type": "code",
   "execution_count": 412,
   "metadata": {},
   "outputs": [],
   "source": [
    "# f1 = open(\"submissoin_lyrics1.txt\",encoding=\"utf8\")\n",
    "# data1 = f1.read()\n",
    "# f1.close()"
   ]
  },
  {
   "cell_type": "code",
   "execution_count": 413,
   "metadata": {},
   "outputs": [],
   "source": [
    "# print(data1)"
   ]
  },
  {
   "cell_type": "code",
   "execution_count": 414,
   "metadata": {},
   "outputs": [
    {
     "data": {
      "text/plain": [
       "2000"
      ]
     },
     "execution_count": 414,
     "metadata": {},
     "output_type": "execute_result"
    }
   ],
   "source": [
    "len(data1)"
   ]
  },
  {
   "cell_type": "code",
   "execution_count": 415,
   "metadata": {},
   "outputs": [],
   "source": [
    "# len(\"\"\"apna time aayega\n",
    "# apna time aaya khwaab\n",
    "# ab kaise tu dafnayega\n",
    "# apna time aayega\n",
    "# apna time aayega\n",
    "# apna toone boya hai seene mein\n",
    "# har raakh se\n",
    "# matlab bana lala\n",
    "# mere jaisa shabdon ki apna toone boya hai\n",
    "# shohrat nahi\n",
    "# utna time aayega x (2)\n",
    " \n",
    "# tu udd ja apna time aayega\n",
    "# apna time aaya khwaab\n",
    "# ab kaise tu dafnayega\n",
    " \n",
    "# ab kaise tu ghanta lekar jaayega\n",
    "# apna time aaya hai\n",
    "# kya ghanta lekar jaayega apna time aaya hai\n",
    "# jo darr ko cheerenge\n",
    "# hum kaamyabi chahat ki hai\n",
    "# tere jaisa koyi hai\n",
    "# phir bhi satayega\n",
    "# apna time aaya hai\n",
    "# kya ghanta lekar..\n",
    " \n",
    "# kissi ka jwala\n",
    "# mere bhai seenenge\n",
    "# sab kuchh mil payega\n",
    "# aisa mera khud ki hai\n",
    "# shohrat ki\n",
    "# adalat yahaan marzi ki\n",
    "# jeetne ki hai chahat ki\n",
    "# adalat yeh hai\n",
    "# kya ghanta lekar jaayega\n",
    "# jitna hi to aayega\n",
    " \n",
    "# yeh shabdon ki hai\n",
    "# tere jaisa mera khwaab hai\n",
    "# kya tu ghanta lekar..\n",
    " \n",
    "# kissi ka jwala\n",
    "# meri bediyan pighlayega\n",
    "# uth ja apna time aaya hai\n",
    "# shohrat ki ab talaash mein\n",
    "# har raaste ko cheerenge\n",
    "# sab kuchh mil payega\n",
    "# apna time aayega\n",
    "# kya ghanta lekar jaayega\n",
    "# meri bediyan parwane ki\n",
    "# mohobbat ki mehnat se jeenenge\n",
    "# sab kuchh mila paseene de\n",
    "# ab khaayega\n",
    " \n",
    "# ab kaise tu ghanta lekar jaayega\n",
    "# meri bediyan pighlayega\n",
    "# apna toone boya hai jaisa shabdon ki hai\n",
    "# phir bhi satayega x (2)\n",
    " \n",
    "# tu udd ja apna time aayega\n",
    " \n",
    "# ab khaayega\n",
    "# kya ghanta lekar jaayega\n",
    "# uth ja ab talaash mein\n",
    "# har raakh se\n",
    "# matlab bana ab talaash mein\n",
    "# har raaste ko cheerenge\n",
    "# hum kaamyabi chahat ki ab laalach nahi hai\n",
    "# kya tu ghanta lekar jaayega\n",
    "# jitni raaste ko bhi satayega\n",
    " \n",
    "# taakat ki\n",
    "# mohobbat ki\n",
    "# jeetne ki mehnat kismat mein hai\n",
    "# kya ghanta lekar jaayega\n",
    "# apna time aayega\n",
    "# uth ja ab jeene mein hai tu\n",
    "# utna hi to aaya hai\n",
    "# kyon?\n",
    " \n",
    "# tu nanga hi tha sar uthayega\n",
    "# apna time aayega\n",
    "# apna toone boya hath nai hai\n",
    "# kyon ka hai\n",
    " \n",
    "# iss hard’ch nai hairat ki, amaanat se main\n",
    "# jitni rehmat mein\n",
    "# parwaaz dekh par aayega\n",
    "# apna time aaya khwaab\n",
    "# ab kaise tu dafnayega\n",
    "# kya ghanta lekar jaayega\n",
    "# kya ghanta lekar jaayega\n",
    " \n",
    "# taakat ki mehnat ki\n",
    "# aasman bhi sar par\n",
    "# yahaanat ki\n",
    "# aur jurrat nahi hai\n",
    "# tere jaisa mera khwaab\n",
    "# ab khaayega\n",
    " \n",
    "# taakat ki hai\n",
    "# kyon\"\"\")"
   ]
  },
  {
   "cell_type": "code",
   "execution_count": 416,
   "metadata": {},
   "outputs": [],
   "source": [
    "file1 = open(\"Solution1.txt\",\"w\") \n",
    "L = [prediction]  \n",
    "  \n",
    "# \\n is placed to indicate EOL (End of Line) \n",
    "#file1.write(L) \n",
    "file1.writelines(L) \n",
    "file1.close() #to change file access modes "
   ]
  },
  {
   "cell_type": "code",
   "execution_count": null,
   "metadata": {},
   "outputs": [],
   "source": []
  },
  {
   "cell_type": "code",
   "execution_count": null,
   "metadata": {},
   "outputs": [],
   "source": []
  },
  {
   "cell_type": "code",
   "execution_count": null,
   "metadata": {},
   "outputs": [],
   "source": []
  },
  {
   "cell_type": "code",
   "execution_count": null,
   "metadata": {},
   "outputs": [],
   "source": []
  },
  {
   "cell_type": "code",
   "execution_count": null,
   "metadata": {},
   "outputs": [],
   "source": []
  }
 ],
 "metadata": {
  "kernelspec": {
   "display_name": "Python 3",
   "language": "python",
   "name": "python3"
  },
  "language_info": {
   "codemirror_mode": {
    "name": "ipython",
    "version": 3
   },
   "file_extension": ".py",
   "mimetype": "text/x-python",
   "name": "python",
   "nbconvert_exporter": "python",
   "pygments_lexer": "ipython3",
   "version": "3.7.4"
  }
 },
 "nbformat": 4,
 "nbformat_minor": 2
}
